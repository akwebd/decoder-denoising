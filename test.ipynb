{
 "cells": [
  {
   "cell_type": "code",
   "execution_count": 1,
   "metadata": {},
   "outputs": [
    {
     "name": "stdout",
     "output_type": "stream",
     "text": [
      "CUDA is available! You can use GPU for computation.\n"
     ]
    },
    {
     "name": "stderr",
     "output_type": "stream",
     "text": [
      "c:\\Users\\User\\.conda\\envs\\DFU2\\lib\\site-packages\\tqdm\\auto.py:21: TqdmWarning: IProgress not found. Please update jupyter and ipywidgets. See https://ipywidgets.readthedocs.io/en/stable/user_install.html\n",
      "  from .autonotebook import tqdm as notebook_tqdm\n"
     ]
    }
   ],
   "source": [
    "import torch\n",
    "\n",
    "# Check if CUDA (NVIDIA GPU) is available\n",
    "if torch.cuda.is_available():\n",
    "    print(\"CUDA is available! You can use GPU for computation.\")\n",
    "else:\n",
    "    print(\"CUDA is not available. You can use CPU for computation.\")\n"
   ]
  },
  {
   "cell_type": "code",
   "execution_count": 2,
   "metadata": {},
   "outputs": [
    {
     "name": "stdout",
     "output_type": "stream",
     "text": [
      "1.8.1+cu111\n"
     ]
    }
   ],
   "source": [
    "print(torch.__version__)"
   ]
  },
  {
   "cell_type": "code",
   "execution_count": 3,
   "metadata": {},
   "outputs": [
    {
     "name": "stdout",
     "output_type": "stream",
     "text": [
      "1.6.4\n"
     ]
    }
   ],
   "source": [
    "import pytorch_lightning as pl\n",
    "print(pl.__version__)"
   ]
  },
  {
   "cell_type": "code",
   "execution_count": 1,
   "metadata": {
    "metadata": {}
   },
   "outputs": [
    {
     "name": "stderr",
     "output_type": "stream",
     "text": [
      "Seed set to 4\n",
      "GPU available: True (cuda), used: True\n",
      "TPU available: False, using: 0 TPU cores\n",
      "IPU available: False, using: 0 IPUs\n",
      "HPU available: False, using: 0 HPUs\n",
      "You are using a CUDA device ('NVIDIA GeForce RTX 3080') that has Tensor Cores. To properly utilize them, you should set `torch.set_float32_matmul_precision('medium' | 'high')` which will trade-off precision for performance. For more details, read https://pytorch.org/docs/stable/generated/torch.set_float32_matmul_precision.html#torch.set_float32_matmul_precision\n",
      "LOCAL_RANK: 0 - CUDA_VISIBLE_DEVICES: [0]\n"
     ]
    },
    {
     "name": "stdout",
     "output_type": "stream",
     "text": [
      "Loaded 103680 images from D:/AKairys/DFUC2022/Examples/decoder-denoising/data/stranger-sections-2-unlabeled-data-patched\n"
     ]
    },
    {
     "name": "stderr",
     "output_type": "stream",
     "text": [
      "\n",
      "  | Name | Type | Params\n",
      "------------------------------\n",
      "0 | net  | Unet | 32.5 M\n",
      "------------------------------\n",
      "9.0 M     Trainable params\n",
      "23.5 M    Non-trainable params\n",
      "32.5 M    Total params\n",
      "130.086   Total estimated model params size (MB)\n"
     ]
    },
    {
     "name": "stdout",
     "output_type": "stream",
     "text": [
      "Sanity Checking: |          | 0/? [00:00<?, ?it/s]"
     ]
    },
    {
     "name": "stderr",
     "output_type": "stream",
     "text": [
      "c:\\Users\\User\\.conda\\envs\\DFU2\\lib\\site-packages\\lightning\\pytorch\\trainer\\connectors\\data_connector.py:436: Consider setting `persistent_workers=True` in 'val_dataloader' to speed up the dataloader worker initialization.\n"
     ]
    },
    {
     "name": "stdout",
     "output_type": "stream",
     "text": [
      "                                                                           \r"
     ]
    },
    {
     "name": "stderr",
     "output_type": "stream",
     "text": [
      "c:\\Users\\User\\.conda\\envs\\DFU2\\lib\\site-packages\\lightning\\pytorch\\trainer\\connectors\\data_connector.py:436: Consider setting `persistent_workers=True` in 'train_dataloader' to speed up the dataloader worker initialization.\n"
     ]
    },
    {
     "name": "stdout",
     "output_type": "stream",
     "text": [
      "Epoch 0:   0%|          | 2/7334 [00:01<1:02:20,  1.96it/s, v_num=6, lr=0.0009, train_loss=1.640]"
     ]
    },
    {
     "name": "stderr",
     "output_type": "stream",
     "text": [
      "c:\\Users\\User\\.conda\\envs\\DFU2\\lib\\site-packages\\torch\\autograd\\graph.py:744: UserWarning: Plan failed with a cudnnException: CUDNN_BACKEND_EXECUTION_PLAN_DESCRIPTOR: cudnnFinalize Descriptor Failed cudnn_status: CUDNN_STATUS_NOT_SUPPORTED (Triggered internally at C:\\actions-runner\\_work\\pytorch\\pytorch\\builder\\windows\\pytorch\\aten\\src\\ATen\\native\\cudnn\\Conv_v8.cpp:919.)\n",
      "  return Variable._execution_engine.run_backward(  # Calls into the C++ engine to run the backward pass\n"
     ]
    },
    {
     "name": "stdout",
     "output_type": "stream",
     "text": [
      "Epoch 18: 100%|██████████| 7334/7334 [24:09<00:00,  5.06it/s, v_num=6, lr=9e-6, train_loss=0.317, val_loss=0.286]  \n"
     ]
    }
   ],
   "source": [
    "from src.model import DecoderDenoisingModel\n",
    "from src.data import SSLDataModule\n",
    "import lightning as pl\n",
    "from lightning.pytorch import seed_everything, Trainer\n",
    "from lightning.pytorch.tuner import Tuner\n",
    "from lightning.pytorch.callbacks.early_stopping import EarlyStopping\n",
    "from lightning.pytorch.callbacks import ModelCheckpoint\n",
    "\n",
    "seed_everything(4, workers=True)\n",
    "model_class = DecoderDenoisingModel\n",
    "dm_class = SSLDataModule\n",
    "\n",
    "# create callbacks\n",
    "early_stop = EarlyStopping(monitor=\"train_loss\", mode=\"min\", patience=5)\n",
    "best_val_save = ModelCheckpoint(save_top_k = 2, monitor = \"val_loss\", \n",
    "                            mode = \"min\", dirpath=r\"D:\\AKairys\\DFUC2022\\Examples\\decoder-denoising\\output\\SSL\\best\")\n",
    "\n",
    "\n",
    "\n",
    "model = model_class(arch=\"unet\", encoder=\"resnet50\", lr=0.0009)\n",
    "dm = dm_class(root=\"D:/AKairys/DFUC2022/Examples/decoder-denoising/data/stranger-sections-2-unlabeled-data-patched\",\n",
    "              batch_size=14)\n",
    "trainer = Trainer(max_epochs=200, default_root_dir = \"D:\\AKairys\\DFUC2022\\Examples\\decoder-denoising\\output\\SSL\",\n",
    "                  callbacks=[early_stop, best_val_save])\n",
    "# create tuner object\n",
    "tuner = Tuner(trainer)\n",
    "# optimal lr\n",
    "# tuner.lr_find(model, dm) # lr of 0.0009 was found optimal\n",
    "# optimal batch size\n",
    "# tuner.scale_batch_size(model, dm, 'binsearch') #batch of 32 was last good\n",
    "trainer.fit(model=model, datamodule=dm)"
   ]
  },
  {
   "cell_type": "markdown",
   "metadata": {},
   "source": [
    "Model finetuning"
   ]
  },
  {
   "cell_type": "code",
   "execution_count": 1,
   "metadata": {},
   "outputs": [
    {
     "name": "stderr",
     "output_type": "stream",
     "text": [
      "Seed set to 4\n",
      "GPU available: True (cuda), used: True\n",
      "TPU available: False, using: 0 TPU cores\n",
      "IPU available: False, using: 0 IPUs\n",
      "HPU available: False, using: 0 HPUs\n",
      "You are using a CUDA device ('NVIDIA GeForce RTX 3080') that has Tensor Cores. To properly utilize them, you should set `torch.set_float32_matmul_precision('medium' | 'high')` which will trade-off precision for performance. For more details, read https://pytorch.org/docs/stable/generated/torch.set_float32_matmul_precision.html#torch.set_float32_matmul_precision\n",
      "LOCAL_RANK: 0 - CUDA_VISIBLE_DEVICES: [0]\n"
     ]
    },
    {
     "name": "stdout",
     "output_type": "stream",
     "text": [
      "Loaded 1344 images from D:/AKairys/DFUC2022/Examples/decoder-denoising/data/train-patched\n"
     ]
    },
    {
     "name": "stderr",
     "output_type": "stream",
     "text": [
      "c:\\Users\\User\\.conda\\envs\\DFU2\\lib\\site-packages\\lightning\\pytorch\\trainer\\connectors\\data_connector.py:436: Consider setting `persistent_workers=True` in 'train_dataloader' to speed up the dataloader worker initialization.\n",
      "c:\\Users\\User\\.conda\\envs\\DFU2\\lib\\site-packages\\lightning\\pytorch\\trainer\\connectors\\data_connector.py:436: Consider setting `persistent_workers=True` in 'val_dataloader' to speed up the dataloader worker initialization.\n",
      "Finding best initial lr: 100%|██████████| 100/100 [00:58<00:00,  4.84it/s]`Trainer.fit` stopped: `max_steps=100` reached.\n",
      "Finding best initial lr: 100%|██████████| 100/100 [00:58<00:00,  1.70it/s]\n",
      "Learning rate set to 0.002754228703338169\n",
      "Restoring states from the checkpoint path at D:\\AKairys\\DFUC2022\\Examples\\decoder-denoising\\output\\FineTune\\.lr_find_32ed2df0-c9f0-4f95-98a7-82fe1ffa4f9a.ckpt\n",
      "Restored all states from the checkpoint at D:\\AKairys\\DFUC2022\\Examples\\decoder-denoising\\output\\FineTune\\.lr_find_32ed2df0-c9f0-4f95-98a7-82fe1ffa4f9a.ckpt\n",
      "LOCAL_RANK: 0 - CUDA_VISIBLE_DEVICES: [0]\n",
      "\n",
      "  | Name   | Type                   | Params\n",
      "--------------------------------------------------\n",
      "0 | net    | Unet                   | 32.5 M\n",
      "1 | acc_fn | MulticlassJaccardIndex | 0     \n",
      "--------------------------------------------------\n",
      "9.0 M     Trainable params\n",
      "23.5 M    Non-trainable params\n",
      "32.5 M    Total params\n",
      "130.086   Total estimated model params size (MB)\n"
     ]
    },
    {
     "name": "stdout",
     "output_type": "stream",
     "text": [
      "Loaded 1344 images from D:/AKairys/DFUC2022/Examples/decoder-denoising/data/train-patched\n",
      "Epoch 63: 100%|██████████| 77/77 [00:54<00:00,  1.41it/s, v_num=27, lr=2.75e-9, train_loss=0.0204, val_loss=0.0514, val_jaccard=0.805]  \n"
     ]
    }
   ],
   "source": [
    "from src.model import FineTuningModel\n",
    "from src.data import SupervisedDataModule\n",
    "from lightning.pytorch import seed_everything, Trainer\n",
    "from lightning.pytorch.tuner import Tuner\n",
    "from lightning.pytorch.callbacks.early_stopping import EarlyStopping\n",
    "from lightning.pytorch.callbacks import ModelCheckpoint\n",
    "import torch\n",
    "import os\n",
    "\n",
    "seed_everything(4, workers=True)\n",
    "model_class = FineTuningModel\n",
    "dm_class = SupervisedDataModule\n",
    "\n",
    "output_dir = r\"D:\\AKairys\\DFUC2022\\Examples\\decoder-denoising\\output\\FineTune\"\n",
    "\n",
    "model = model_class(arch=\"unet\", encoder=\"resnet50\", lr=0.0009, loss_type = \"ce\")\n",
    "# load pretrained weights\n",
    "ckpt = torch.load(r\"D:\\AKairys\\DFUC2022\\Examples\\decoder-denoising\\output\\SSL\\best\\epoch=13-step=102676.ckpt\")\n",
    "model.load_state_dict(ckpt['state_dict'], strict=True)\n",
    "# Replace segmentation head\n",
    "in_channels = model.net.segmentation_head[0].in_channels\n",
    "num_classes = 4 #3 + 1 background\n",
    "model.net.segmentation_head[0] = torch.nn.Conv2d(in_channels, num_classes, kernel_size=3, padding=1)\n",
    "\n",
    "\n",
    "# create callbacks\n",
    "early_stop = EarlyStopping(monitor=\"train_loss\", mode=\"min\", patience=15)\n",
    "best_val_save = ModelCheckpoint(save_top_k = 2, monitor = \"val_loss\", \n",
    "                            mode = \"min\", dirpath=os.path.join(output_dir, \"best\", \"pretr\"))\n",
    "\n",
    "dm = dm_class(root=\"D:/AKairys/DFUC2022/Examples/decoder-denoising/data/train-patched\",\n",
    "              batch_size=14, num_val=256)\n",
    "trainer = Trainer(max_epochs=200, default_root_dir = output_dir,\n",
    "                  callbacks=[early_stop, best_val_save])\n",
    "# create tuner object\n",
    "tuner = Tuner(trainer)\n",
    "# optimal lr\n",
    "tuner.lr_find(model, dm) # lr of 0.0009 was found optimal\n",
    "# optimal batch size\n",
    "# tuner.scale_batch_size(model, dm) #batch of 128 was last good, but it did not worked in training\n",
    "trainer.fit(model=model, datamodule=dm)\n"
   ]
  },
  {
   "cell_type": "markdown",
   "metadata": {},
   "source": [
    "Inference"
   ]
  },
  {
   "cell_type": "code",
   "execution_count": 1,
   "metadata": {},
   "outputs": [
    {
     "name": "stderr",
     "output_type": "stream",
     "text": [
      "GPU available: True (cuda), used: True\n",
      "TPU available: False, using: 0 TPU cores\n",
      "IPU available: False, using: 0 IPUs\n",
      "HPU available: False, using: 0 HPUs\n",
      "You are using a CUDA device ('NVIDIA GeForce RTX 3080') that has Tensor Cores. To properly utilize them, you should set `torch.set_float32_matmul_precision('medium' | 'high')` which will trade-off precision for performance. For more details, read https://pytorch.org/docs/stable/generated/torch.set_float32_matmul_precision.html#torch.set_float32_matmul_precision\n",
      "LOCAL_RANK: 0 - CUDA_VISIBLE_DEVICES: [0]\n"
     ]
    },
    {
     "name": "stdout",
     "output_type": "stream",
     "text": [
      "Loaded 25 images from D:\\AKairys\\DFUC2022\\Examples\\decoder-denoising\\data\\test\n"
     ]
    },
    {
     "name": "stderr",
     "output_type": "stream",
     "text": [
      "c:\\Users\\User\\.conda\\envs\\DFU2\\lib\\site-packages\\lightning\\pytorch\\trainer\\connectors\\data_connector.py:436: Consider setting `persistent_workers=True` in 'predict_dataloader' to speed up the dataloader worker initialization.\n"
     ]
    },
    {
     "name": "stdout",
     "output_type": "stream",
     "text": [
      "Predicting DataLoader 0: 100%|██████████| 25/25 [00:06<00:00,  3.97it/s]\n"
     ]
    }
   ],
   "source": [
    "from src.model import FineTuningModel\n",
    "from src.data import SupervisedDataModule\n",
    "from lightning.pytorch import Trainer\n",
    "\n",
    "output_dir = r\"D:\\AKairys\\DFUC2022\\Examples\\decoder-denoising\\output\\FineTune\"\n",
    "\n",
    "# load checkpoint\n",
    "checkpoint_path = r\"D:\\AKairys\\DFUC2022\\Examples\\decoder-denoising\\output\\FineTune\\best\\epoch=34-step=2695.ckpt\"\n",
    "model = FineTuningModel.load_from_checkpoint(checkpoint_path)\n",
    "# specify data loaders\n",
    "dm_class = SupervisedDataModule\n",
    "dm = dm_class(root=r\"D:\\AKairys\\DFUC2022\\Examples\\decoder-denoising\\data\\test\",\n",
    "              batch_size=1)\n",
    "# define trainer and predict\n",
    "trainer = Trainer(default_root_dir = output_dir)\n",
    "trainer.predict(model=model, datamodule=dm, return_predictions=False)\n"
   ]
  }
 ],
 "metadata": {
  "kernelspec": {
   "display_name": "PyTorch_GPU_",
   "language": "python",
   "name": "python3"
  },
  "language_info": {
   "codemirror_mode": {
    "name": "ipython",
    "version": 3
   },
   "file_extension": ".py",
   "mimetype": "text/x-python",
   "name": "python",
   "nbconvert_exporter": "python",
   "pygments_lexer": "ipython3",
   "version": "3.9.19"
  }
 },
 "nbformat": 4,
 "nbformat_minor": 2
}
