{
 "cells": [
  {
   "cell_type": "code",
   "execution_count": 1,
   "metadata": {},
   "outputs": [
    {
     "name": "stdout",
     "output_type": "stream",
     "text": [
      "CUDA is available! You can use GPU for computation.\n"
     ]
    },
    {
     "name": "stderr",
     "output_type": "stream",
     "text": [
      "c:\\Users\\User\\.conda\\envs\\DFU2\\lib\\site-packages\\tqdm\\auto.py:21: TqdmWarning: IProgress not found. Please update jupyter and ipywidgets. See https://ipywidgets.readthedocs.io/en/stable/user_install.html\n",
      "  from .autonotebook import tqdm as notebook_tqdm\n"
     ]
    }
   ],
   "source": [
    "import torch\n",
    "\n",
    "# Check if CUDA (NVIDIA GPU) is available\n",
    "if torch.cuda.is_available():\n",
    "    print(\"CUDA is available! You can use GPU for computation.\")\n",
    "else:\n",
    "    print(\"CUDA is not available. You can use CPU for computation.\")\n"
   ]
  },
  {
   "cell_type": "code",
   "execution_count": 2,
   "metadata": {},
   "outputs": [
    {
     "name": "stdout",
     "output_type": "stream",
     "text": [
      "1.8.1+cu111\n"
     ]
    }
   ],
   "source": [
    "print(torch.__version__)"
   ]
  },
  {
   "cell_type": "code",
   "execution_count": 3,
   "metadata": {},
   "outputs": [
    {
     "name": "stdout",
     "output_type": "stream",
     "text": [
      "1.6.4\n"
     ]
    }
   ],
   "source": [
    "import pytorch_lightning as pl\n",
    "print(pl.__version__)"
   ]
  },
  {
   "cell_type": "code",
   "execution_count": 1,
   "metadata": {
    "metadata": {}
   },
   "outputs": [
    {
     "name": "stderr",
     "output_type": "stream",
     "text": [
      "Seed set to 4\n",
      "GPU available: True (cuda), used: True\n",
      "TPU available: False, using: 0 TPU cores\n",
      "IPU available: False, using: 0 IPUs\n",
      "HPU available: False, using: 0 HPUs\n",
      "You are using a CUDA device ('NVIDIA GeForce RTX 3080') that has Tensor Cores. To properly utilize them, you should set `torch.set_float32_matmul_precision('medium' | 'high')` which will trade-off precision for performance. For more details, read https://pytorch.org/docs/stable/generated/torch.set_float32_matmul_precision.html#torch.set_float32_matmul_precision\n",
      "LOCAL_RANK: 0 - CUDA_VISIBLE_DEVICES: [0]\n"
     ]
    },
    {
     "name": "stdout",
     "output_type": "stream",
     "text": [
      "Loaded 103680 images from D:/AKairys/DFUC2022/Examples/decoder-denoising/data/stranger-sections-2-unlabeled-data-patched\n"
     ]
    },
    {
     "name": "stderr",
     "output_type": "stream",
     "text": [
      "Loading `train_dataloader` to estimate number of stepping batches.\n",
      "c:\\Users\\User\\.conda\\envs\\DFU2\\lib\\site-packages\\lightning\\pytorch\\trainer\\connectors\\data_connector.py:436: Consider setting `persistent_workers=True` in 'train_dataloader' to speed up the dataloader worker initialization.\n",
      "\n",
      "  | Name | Type | Params\n",
      "------------------------------\n",
      "0 | net  | Unet | 32.5 M\n",
      "------------------------------\n",
      "9.0 M     Trainable params\n",
      "23.5 M    Non-trainable params\n",
      "32.5 M    Total params\n",
      "130.086   Total estimated model params size (MB)\n"
     ]
    },
    {
     "name": "stdout",
     "output_type": "stream",
     "text": [
      "Sanity Checking: |          | 0/? [00:00<?, ?it/s]"
     ]
    },
    {
     "name": "stderr",
     "output_type": "stream",
     "text": [
      "c:\\Users\\User\\.conda\\envs\\DFU2\\lib\\site-packages\\lightning\\pytorch\\trainer\\connectors\\data_connector.py:436: Consider setting `persistent_workers=True` in 'val_dataloader' to speed up the dataloader worker initialization.\n"
     ]
    },
    {
     "name": "stdout",
     "output_type": "stream",
     "text": [
      "Epoch 0:   0%|          | 2/1604 [00:00<06:53,  3.87it/s, v_num=10, lr=0.0009, train_loss=1.640]"
     ]
    },
    {
     "name": "stderr",
     "output_type": "stream",
     "text": [
      "c:\\Users\\User\\.conda\\envs\\DFU2\\lib\\site-packages\\torch\\autograd\\graph.py:744: UserWarning: Plan failed with a cudnnException: CUDNN_BACKEND_EXECUTION_PLAN_DESCRIPTOR: cudnnFinalize Descriptor Failed cudnn_status: CUDNN_STATUS_NOT_SUPPORTED (Triggered internally at C:\\actions-runner\\_work\\pytorch\\pytorch\\builder\\windows\\pytorch\\aten\\src\\ATen\\native\\cudnn\\Conv_v8.cpp:919.)\n",
      "  return Variable._execution_engine.run_backward(  # Calls into the C++ engine to run the backward pass\n"
     ]
    },
    {
     "name": "stdout",
     "output_type": "stream",
     "text": [
      "Epoch 12:  70%|██████▉   | 1118/1604 [03:56<01:42,  4.73it/s, v_num=10, lr=0.000891, train_loss=0.257, val_loss=0.256]"
     ]
    }
   ],
   "source": [
    "from src.model import DecoderDenoisingModel\n",
    "from src.data import SimpleDataModule\n",
    "import lightning as pl\n",
    "from lightning.pytorch import seed_everything, Trainer\n",
    "from lightning.pytorch.tuner import Tuner\n",
    "from lightning.pytorch.callbacks.early_stopping import EarlyStopping\n",
    "\n",
    "seed_everything(4, workers=True)\n",
    "model_class = DecoderDenoisingModel\n",
    "dm_class = SimpleDataModule\n",
    "\n",
    "\n",
    "\n",
    "model = model_class(arch=\"unet\", encoder=\"resnet50\", lr=0.0009)\n",
    "dm = dm_class(root=\"D:/AKairys/DFUC2022/Examples/decoder-denoising/data/stranger-sections-2-unlabeled-data-patched\",\n",
    "              batch_size=64)\n",
    "trainer = Trainer(max_epochs=200, default_root_dir = \"D:\\AKairys\\DFUC2022\\Examples\\decoder-denoising\\output\",\n",
    "                  callbacks=[EarlyStopping(monitor=\"train_loss\", mode=\"min\")])\n",
    "# create tuner object\n",
    "tuner = Tuner(trainer)\n",
    "# optimal lr\n",
    "# tuner.lr_find(model, dm) # lr of 0.0009 was found optimal\n",
    "# optimal batch size\n",
    "# tuner.scale_batch_size(model, dm) #batch of 128 was last good, but it did not worked in training\n",
    "trainer.fit(model=model, datamodule=dm)"
   ]
  },
  {
   "cell_type": "markdown",
   "metadata": {},
   "source": [
    "Model finetuning"
   ]
  },
  {
   "cell_type": "code",
   "execution_count": null,
   "metadata": {},
   "outputs": [],
   "source": [
    "from src.model import DecoderDenoisingModel\n",
    "from src.data import SimpleDataModule\n",
    "from lightning.pytorch import seed_everything, Trainer\n",
    "from lightning.pytorch.tuner import Tuner\n",
    "from lightning.pytorch.callbacks.early_stopping import EarlyStopping\n",
    "\n",
    "seed_everything(4, workers=True)\n",
    "model_class = DecoderDenoisingModel\n",
    "dm_class = SimpleDataModule\n",
    "\n",
    "\n",
    "\n",
    "model = model_class(arch=\"unet\", encoder=\"resnet50\", lr=0.0009)\n",
    "dm = dm_class(root=\"D:/AKairys/DFUC2022/Examples/decoder-denoising/data/train-patched\",\n",
    "              batch_size=64, num_val=256)\n",
    "trainer = Trainer(max_epochs=200, default_root_dir = \"D:\\AKairys\\DFUC2022\\Examples\\decoder-denoising\\output\",\n",
    "                  callbacks=[EarlyStopping(monitor=\"train_loss\", mode=\"min\")])\n",
    "# create tuner object\n",
    "tuner = Tuner(trainer)\n",
    "# optimal lr\n",
    "# tuner.lr_find(model, dm) # lr of 0.0009 was found optimal\n",
    "# optimal batch size\n",
    "# tuner.scale_batch_size(model, dm) #batch of 128 was last good, but it did not worked in training\n",
    "trainer.fit(model=model, datamodule=dm)"
   ]
  }
 ],
 "metadata": {
  "kernelspec": {
   "display_name": "PyTorch_GPU_",
   "language": "python",
   "name": "python3"
  },
  "language_info": {
   "codemirror_mode": {
    "name": "ipython",
    "version": 3
   },
   "file_extension": ".py",
   "mimetype": "text/x-python",
   "name": "python",
   "nbconvert_exporter": "python",
   "pygments_lexer": "ipython3",
   "version": "3.9.19"
  }
 },
 "nbformat": 4,
 "nbformat_minor": 2
}
