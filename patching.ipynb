{
 "cells": [
  {
   "cell_type": "code",
   "execution_count": 1,
   "metadata": {
    "metadata": {}
   },
   "outputs": [],
   "source": [
    "import os\n",
    "import cv2  # OpenCV\n",
    "import numpy as np\n",
    "\n",
    "def extract_patches(image_path, patch_size, stride):\n",
    "    if not image_path.endswith('.npy'):\n",
    "        image = cv2.imread(image_path)  # Read the image\n",
    "        height, width, _ = image.shape\n",
    "    else:\n",
    "        image = np.load(image_path)\n",
    "        height, width = image.shape\n",
    "    \n",
    "    patches = []    \n",
    "    for y in range(0, height - stride, stride):\n",
    "        if y + patch_size > height:\n",
    "            y = height - patch_size\n",
    "        for x in range(0, width - stride, stride):\n",
    "            if x + patch_size > width:\n",
    "                x = width - patch_size\n",
    "            patch = image[y:y+patch_size, x:x+patch_size]\n",
    "            patches.append(patch)\n",
    "    \n",
    "    return patches\n",
    "\n",
    "def save_patches(patches, output_dir, filename):\n",
    "    if not os.path.exists(output_dir):\n",
    "        os.makedirs(output_dir)\n",
    "    \n",
    "    for i, patch in enumerate(patches):\n",
    "        patch_path = os.path.join(output_dir, f\"{i}{filename}\")\n",
    "        if patch_path.endswith('.npy'):\n",
    "            np.save(patch_path, patch)\n",
    "        else:   \n",
    "            cv2.imwrite(patch_path, patch)\n",
    "# Example usage\n",
    "input_dir = \"data/train/label\"\n",
    "output_dir = \"data/train-patched/label\"\n",
    "patch_size = 512  # Size of the patches\n",
    "stride = 256  # Stride for patch extraction\n",
    "for filename in os.listdir(input_dir):\n",
    "    if filename.lower().endswith(\".jpg\") or filename.lower().endswith(\".png\") or filename.lower().endswith(\".npy\"):\n",
    "        image_path = os.path.join(input_dir, filename)\n",
    "        patches = extract_patches(image_path, patch_size, stride)\n",
    "        save_patches(patches, output_dir, filename)\n",
    "        # break\n"
   ]
  },
  {
   "cell_type": "code",
   "execution_count": 3,
   "metadata": {
    "metadata": {}
   },
   "outputs": [
    {
     "name": "stdout",
     "output_type": "stream",
     "text": [
      "Collecting opencv-python\n",
      "  Using cached opencv_python-4.9.0.80-cp37-abi3-win_amd64.whl.metadata (20 kB)\n",
      "Requirement already satisfied: numpy>=1.17.0 in c:\\users\\user\\.conda\\envs\\dfu2\\lib\\site-packages (from opencv-python) (1.21.5)\n",
      "Using cached opencv_python-4.9.0.80-cp37-abi3-win_amd64.whl (38.6 MB)\n",
      "Installing collected packages: opencv-python\n",
      "Successfully installed opencv-python-4.9.0.80\n"
     ]
    },
    {
     "name": "stderr",
     "output_type": "stream",
     "text": [
      "WARNING: Ignoring invalid distribution -orch (c:\\users\\user\\.conda\\envs\\dfu2\\lib\\site-packages)\n",
      "WARNING: Ignoring invalid distribution -orch (c:\\users\\user\\.conda\\envs\\dfu2\\lib\\site-packages)\n",
      "\n",
      "[notice] A new release of pip is available: 23.3.2 -> 24.0\n",
      "[notice] To update, run: python.exe -m pip install --upgrade pip\n"
     ]
    }
   ],
   "source": [
    "!pip install opencv-python"
   ]
  },
  {
   "cell_type": "code",
   "execution_count": 4,
   "metadata": {},
   "outputs": [
    {
     "name": "stdout",
     "output_type": "stream",
     "text": [
      "Requirement already satisfied: numpy in c:\\users\\user\\.conda\\envs\\pytorch_gpu_\\lib\\site-packages (1.19.5)\n",
      "Collecting numpy\n",
      "  Downloading numpy-1.26.4-cp39-cp39-win_amd64.whl.metadata (61 kB)\n",
      "     ---------------------------------------- 0.0/61.0 kB ? eta -:--:--\n",
      "     ------ --------------------------------- 10.2/61.0 kB ? eta -:--:--\n",
      "     ------------ ------------------------- 20.5/61.0 kB 320.0 kB/s eta 0:00:01\n",
      "     ------------------- ------------------ 30.7/61.0 kB 325.1 kB/s eta 0:00:01\n",
      "     ------------------------------- ------ 51.2/61.0 kB 372.4 kB/s eta 0:00:01\n",
      "     -------------------------------------- 61.0/61.0 kB 406.4 kB/s eta 0:00:00\n",
      "Downloading numpy-1.26.4-cp39-cp39-win_amd64.whl (15.8 MB)\n",
      "   ---------------------------------------- 0.0/15.8 MB ? eta -:--:--\n",
      "   ---------------------------------------- 0.1/15.8 MB 1.7 MB/s eta 0:00:10\n",
      "    --------------------------------------- 0.2/15.8 MB 3.5 MB/s eta 0:00:05\n",
      "   - -------------------------------------- 0.5/15.8 MB 4.3 MB/s eta 0:00:04\n",
      "   -- ------------------------------------- 0.9/15.8 MB 6.4 MB/s eta 0:00:03\n",
      "   --- ------------------------------------ 1.4/15.8 MB 7.3 MB/s eta 0:00:02\n",
      "   ---- ----------------------------------- 1.8/15.8 MB 8.1 MB/s eta 0:00:02\n",
      "   ----- ---------------------------------- 2.2/15.8 MB 8.8 MB/s eta 0:00:02\n",
      "   ----- ---------------------------------- 2.3/15.8 MB 7.8 MB/s eta 0:00:02\n",
      "   ------ --------------------------------- 2.8/15.8 MB 8.4 MB/s eta 0:00:02\n",
      "   -------- ------------------------------- 3.5/15.8 MB 9.8 MB/s eta 0:00:02\n",
      "   ---------- ----------------------------- 4.0/15.8 MB 9.8 MB/s eta 0:00:02\n",
      "   ----------- ---------------------------- 4.4/15.8 MB 10.1 MB/s eta 0:00:02\n",
      "   ------------ --------------------------- 4.8/15.8 MB 10.0 MB/s eta 0:00:02\n",
      "   ------------- -------------------------- 5.3/15.8 MB 10.2 MB/s eta 0:00:02\n",
      "   -------------- ------------------------- 5.7/15.8 MB 10.4 MB/s eta 0:00:01\n",
      "   --------------- ------------------------ 6.2/15.8 MB 10.3 MB/s eta 0:00:01\n",
      "   ---------------- ----------------------- 6.6/15.8 MB 10.5 MB/s eta 0:00:01\n",
      "   ----------------- ---------------------- 7.1/15.8 MB 10.5 MB/s eta 0:00:01\n",
      "   ------------------ --------------------- 7.5/15.8 MB 10.6 MB/s eta 0:00:01\n",
      "   -------------------- ------------------- 7.9/15.8 MB 10.8 MB/s eta 0:00:01\n",
      "   --------------------- ------------------ 8.4/15.8 MB 10.7 MB/s eta 0:00:01\n",
      "   ---------------------- ----------------- 8.8/15.8 MB 10.9 MB/s eta 0:00:01\n",
      "   ----------------------- ---------------- 9.3/15.8 MB 10.8 MB/s eta 0:00:01\n",
      "   ------------------------ --------------- 9.7/15.8 MB 10.9 MB/s eta 0:00:01\n",
      "   ------------------------- -------------- 10.2/15.8 MB 11.0 MB/s eta 0:00:01\n",
      "   -------------------------- ------------- 10.6/15.8 MB 11.9 MB/s eta 0:00:01\n",
      "   --------------------------- ------------ 11.1/15.8 MB 11.9 MB/s eta 0:00:01\n",
      "   ----------------------------- ---------- 11.5/15.8 MB 11.7 MB/s eta 0:00:01\n",
      "   ------------------------------ --------- 12.0/15.8 MB 11.9 MB/s eta 0:00:01\n",
      "   ------------------------------- -------- 12.4/15.8 MB 11.7 MB/s eta 0:00:01\n",
      "   -------------------------------- ------- 12.8/15.8 MB 12.1 MB/s eta 0:00:01\n",
      "   --------------------------------- ------ 13.3/15.8 MB 12.1 MB/s eta 0:00:01\n",
      "   ---------------------------------- ----- 13.8/15.8 MB 11.7 MB/s eta 0:00:01\n",
      "   ----------------------------------- ---- 14.2/15.8 MB 11.9 MB/s eta 0:00:01\n",
      "   ------------------------------------ --- 14.6/15.8 MB 11.9 MB/s eta 0:00:01\n",
      "   -------------------------------------- - 15.1/15.8 MB 11.7 MB/s eta 0:00:01\n",
      "   ---------------------------------------  15.5/15.8 MB 11.9 MB/s eta 0:00:01\n",
      "   ---------------------------------------  15.8/15.8 MB 11.9 MB/s eta 0:00:01\n",
      "   ---------------------------------------- 15.8/15.8 MB 11.5 MB/s eta 0:00:00\n",
      "Installing collected packages: numpy\n",
      "  Attempting uninstall: numpy\n",
      "    Found existing installation: numpy 1.19.5\n",
      "    Uninstalling numpy-1.19.5:\n",
      "      Successfully uninstalled numpy-1.19.5\n",
      "Successfully installed numpy-1.21.5\n"
     ]
    },
    {
     "name": "stderr",
     "output_type": "stream",
     "text": [
      "WARNING: Ignoring invalid distribution -issl (c:\\users\\user\\appdata\\roaming\\python\\python39\\site-packages)\n",
      "WARNING: Ignoring invalid distribution -orch (c:\\users\\user\\appdata\\roaming\\python\\python39\\site-packages)\n",
      "WARNING: Ignoring invalid distribution -issl (c:\\users\\user\\appdata\\roaming\\python\\python39\\site-packages)\n",
      "WARNING: Ignoring invalid distribution -orch (c:\\users\\user\\appdata\\roaming\\python\\python39\\site-packages)\n",
      "WARNING: Error parsing requirements for torchvision: [Errno 2] No such file or directory: 'c:\\\\users\\\\user\\\\.conda\\\\envs\\\\pytorch_gpu_\\\\lib\\\\site-packages\\\\torchvision-0.13.0.dist-info\\\\METADATA'\n",
      "DEPRECATION: omegaconf 2.0.6 has a non-standard dependency specifier PyYAML>=5.1.*. pip 24.0 will enforce this behaviour change. A possible replacement is to upgrade to a newer version of omegaconf or contact the author to suggest that they release a version with a conforming dependency specifiers. Discussion can be found at https://github.com/pypa/pip/issues/12063\n",
      "DEPRECATION: pytorch-lightning 1.6.4 has a non-standard dependency specifier torch>=1.8.*. pip 24.0 will enforce this behaviour change. A possible replacement is to upgrade to a newer version of pytorch-lightning or contact the author to suggest that they release a version with a conforming dependency specifiers. Discussion can be found at https://github.com/pypa/pip/issues/12063\n",
      "    WARNING: Ignoring invalid distribution -issl (c:\\users\\user\\appdata\\roaming\\python\\python39\\site-packages)\n",
      "    WARNING: Ignoring invalid distribution -orch (c:\\users\\user\\appdata\\roaming\\python\\python39\\site-packages)\n",
      "  WARNING: Failed to remove contents in a temporary directory 'C:\\Users\\User\\AppData\\Local\\Temp\\pip-uninstall-7439_y49'.\n",
      "  You can safely remove it manually.\n",
      "  WARNING: Failed to remove contents in a temporary directory 'C:\\Users\\User\\AppData\\Local\\Temp\\pip-uninstall-n_a60hh7'.\n",
      "  You can safely remove it manually.\n",
      "ERROR: pip's dependency resolver does not currently take into account all the packages that are installed. This behaviour is the source of the following dependency conflicts.\n",
      "numba 0.57.0 requires numpy<1.25,>=1.21, but you have numpy 1.26.4 which is incompatible.\n",
      "accelerate 0.28.0 requires torch>=1.10.0, but you have torch 1.7.1+cu101 which is incompatible.\n",
      "pytorch-lightning 1.6.4 requires torch>=1.8.*, but you have torch 1.7.1+cu101 which is incompatible.\n",
      "tensorflow-intel 2.16.1 requires protobuf!=4.21.0,!=4.21.1,!=4.21.2,!=4.21.3,!=4.21.4,!=4.21.5,<5.0.0dev,>=3.20.3, but you have protobuf 3.19.6 which is incompatible.\n",
      "torchmetrics 1.0.2 requires torch>=1.8.1, but you have torch 1.7.1+cu101 which is incompatible.\n",
      "torchtext 0.13.0 requires torch==1.12.0, but you have torch 1.7.1+cu101 which is incompatible.\n",
      "\n",
      "[notice] A new release of pip is available: 23.3.2 -> 24.0\n",
      "[notice] To update, run: python.exe -m pip install --upgrade pip\n"
     ]
    }
   ],
   "source": [
    "!pip install numpy --upgrade"
   ]
  },
  {
   "cell_type": "code",
   "execution_count": 1,
   "metadata": {},
   "outputs": [],
   "source": [
    "!python train.py --gpus 1 --max_epochs 5 --data.root D:/AKairys/DFUC2022/Examples/decoder-denoising/data/stranger-sections-2-unlabeled-data-patched --model.arch unet --model.encoder resnet50"
   ]
  },
  {
   "cell_type": "code",
   "execution_count": 8,
   "metadata": {
    "metadata": {}
   },
   "outputs": [
    {
     "name": "stdout",
     "output_type": "stream",
     "text": [
      "Collecting protobuf==3.19\n",
      "  Downloading protobuf-3.19.0-cp39-cp39-win_amd64.whl.metadata (807 bytes)\n",
      "Downloading protobuf-3.19.0-cp39-cp39-win_amd64.whl (895 kB)\n",
      "   ---------------------------------------- 0.0/895.7 kB ? eta -:--:--\n",
      "   ---------------------------------------- 10.2/895.7 kB ? eta -:--:--\n",
      "   - ------------------------------------- 30.7/895.7 kB 435.7 kB/s eta 0:00:02\n",
      "   -- ------------------------------------ 61.4/895.7 kB 656.4 kB/s eta 0:00:02\n",
      "   ------- -------------------------------- 174.1/895.7 kB 1.5 MB/s eta 0:00:01\n",
      "   ---------------- ----------------------- 358.4/895.7 kB 2.2 MB/s eta 0:00:01\n",
      "   ---------------------------------- ----- 768.0/895.7 kB 4.1 MB/s eta 0:00:01\n",
      "   ---------------------------------------- 895.7/895.7 kB 4.4 MB/s eta 0:00:00\n",
      "Installing collected packages: protobuf\n",
      "  Attempting uninstall: protobuf\n",
      "    Found existing installation: protobuf 5.26.1\n",
      "    Uninstalling protobuf-5.26.1:\n",
      "      Successfully uninstalled protobuf-5.26.1\n",
      "Successfully installed protobuf-3.19.0\n"
     ]
    },
    {
     "name": "stderr",
     "output_type": "stream",
     "text": [
      "WARNING: Ignoring invalid distribution -orch (c:\\users\\user\\.conda\\envs\\dfu2\\lib\\site-packages)\n",
      "WARNING: Ignoring invalid distribution -orch (c:\\users\\user\\.conda\\envs\\dfu2\\lib\\site-packages)\n",
      "  WARNING: Failed to remove contents in a temporary directory 'C:\\Users\\User\\.conda\\envs\\DFU2\\Lib\\site-packages\\google\\~upb'.\n",
      "  You can safely remove it manually.\n",
      "ERROR: pip's dependency resolver does not currently take into account all the packages that are installed. This behaviour is the source of the following dependency conflicts.\n",
      "google-api-core 2.19.0 requires protobuf!=3.20.0,!=3.20.1,!=4.21.0,!=4.21.1,!=4.21.2,!=4.21.3,!=4.21.4,!=4.21.5,<5.0.0.dev0,>=3.19.5, but you have protobuf 3.19.0 which is incompatible.\n",
      "googleapis-common-protos 1.63.0 requires protobuf!=3.20.0,!=3.20.1,!=4.21.1,!=4.21.2,!=4.21.3,!=4.21.4,!=4.21.5,<5.0.0.dev0,>=3.19.5, but you have protobuf 3.19.0 which is incompatible.\n",
      "tensorboard 2.16.2 requires protobuf!=4.24.0,>=3.19.6, but you have protobuf 3.19.0 which is incompatible.\n",
      "tensorboardx 2.6.2.2 requires protobuf>=3.20, but you have protobuf 3.19.0 which is incompatible.\n",
      "\n",
      "[notice] A new release of pip is available: 23.3.2 -> 24.0\n",
      "[notice] To update, run: python.exe -m pip install --upgrade pip\n"
     ]
    }
   ],
   "source": [
    "# !pip install segmentation_models_pytorch==0.2.1\n",
    "!pip install protobuf==3.19"
   ]
  },
  {
   "cell_type": "code",
   "execution_count": 4,
   "metadata": {
    "metadata": {}
   },
   "outputs": [
    {
     "name": "stdout",
     "output_type": "stream",
     "text": [
      "Requirement already satisfied: pytorch-lightning in c:\\users\\user\\.conda\\envs\\dfu2\\lib\\site-packages (1.9.0)\n",
      "Collecting pytorch-lightning\n",
      "  Using cached pytorch_lightning-2.2.4-py3-none-any.whl.metadata (21 kB)\n",
      "Requirement already satisfied: numpy>=1.17.2 in c:\\users\\user\\.conda\\envs\\dfu2\\lib\\site-packages (from pytorch-lightning) (1.26.4)\n",
      "Requirement already satisfied: torch>=1.13.0 in c:\\users\\user\\.conda\\envs\\dfu2\\lib\\site-packages (from pytorch-lightning) (2.3.0+cu121)\n",
      "Requirement already satisfied: tqdm>=4.57.0 in c:\\users\\user\\.conda\\envs\\dfu2\\lib\\site-packages (from pytorch-lightning) (4.66.2)\n",
      "Requirement already satisfied: PyYAML>=5.4 in c:\\users\\user\\.conda\\envs\\dfu2\\lib\\site-packages (from pytorch-lightning) (6.0.1)\n",
      "Requirement already satisfied: fsspec>=2022.5.0 in c:\\users\\user\\.conda\\envs\\dfu2\\lib\\site-packages (from fsspec[http]>=2022.5.0->pytorch-lightning) (2024.3.1)\n",
      "Requirement already satisfied: torchmetrics>=0.7.0 in c:\\users\\user\\.conda\\envs\\dfu2\\lib\\site-packages (from pytorch-lightning) (1.2.1)\n",
      "Requirement already satisfied: packaging>=20.0 in c:\\users\\user\\.conda\\envs\\dfu2\\lib\\site-packages (from pytorch-lightning) (24.0)\n",
      "Requirement already satisfied: typing-extensions>=4.4.0 in c:\\users\\user\\.conda\\envs\\dfu2\\lib\\site-packages (from pytorch-lightning) (4.11.0)\n",
      "Requirement already satisfied: lightning-utilities>=0.8.0 in c:\\users\\user\\.conda\\envs\\dfu2\\lib\\site-packages (from pytorch-lightning) (0.11.2)\n",
      "Requirement already satisfied: aiohttp!=4.0.0a0,!=4.0.0a1 in c:\\users\\user\\.conda\\envs\\dfu2\\lib\\site-packages (from fsspec[http]>=2022.5.0->pytorch-lightning) (3.9.5)\n",
      "Requirement already satisfied: setuptools in c:\\users\\user\\.conda\\envs\\dfu2\\lib\\site-packages (from lightning-utilities>=0.8.0->pytorch-lightning) (69.5.1)\n",
      "Requirement already satisfied: filelock in c:\\users\\user\\.conda\\envs\\dfu2\\lib\\site-packages (from torch>=1.13.0->pytorch-lightning) (3.14.0)\n",
      "Requirement already satisfied: sympy in c:\\users\\user\\.conda\\envs\\dfu2\\lib\\site-packages (from torch>=1.13.0->pytorch-lightning) (1.12)\n",
      "Requirement already satisfied: networkx in c:\\users\\user\\.conda\\envs\\dfu2\\lib\\site-packages (from torch>=1.13.0->pytorch-lightning) (3.2.1)\n",
      "Requirement already satisfied: jinja2 in c:\\users\\user\\.conda\\envs\\dfu2\\lib\\site-packages (from torch>=1.13.0->pytorch-lightning) (3.1.3)\n",
      "Requirement already satisfied: mkl<=2021.4.0,>=2021.1.1 in c:\\users\\user\\.conda\\envs\\dfu2\\lib\\site-packages (from torch>=1.13.0->pytorch-lightning) (2021.4.0)\n",
      "Requirement already satisfied: colorama in c:\\users\\user\\.conda\\envs\\dfu2\\lib\\site-packages (from tqdm>=4.57.0->pytorch-lightning) (0.4.6)\n",
      "Requirement already satisfied: aiosignal>=1.1.2 in c:\\users\\user\\.conda\\envs\\dfu2\\lib\\site-packages (from aiohttp!=4.0.0a0,!=4.0.0a1->fsspec[http]>=2022.5.0->pytorch-lightning) (1.3.1)\n",
      "Requirement already satisfied: attrs>=17.3.0 in c:\\users\\user\\.conda\\envs\\dfu2\\lib\\site-packages (from aiohttp!=4.0.0a0,!=4.0.0a1->fsspec[http]>=2022.5.0->pytorch-lightning) (23.2.0)\n",
      "Requirement already satisfied: frozenlist>=1.1.1 in c:\\users\\user\\.conda\\envs\\dfu2\\lib\\site-packages (from aiohttp!=4.0.0a0,!=4.0.0a1->fsspec[http]>=2022.5.0->pytorch-lightning) (1.4.1)\n",
      "Requirement already satisfied: multidict<7.0,>=4.5 in c:\\users\\user\\.conda\\envs\\dfu2\\lib\\site-packages (from aiohttp!=4.0.0a0,!=4.0.0a1->fsspec[http]>=2022.5.0->pytorch-lightning) (6.0.5)\n",
      "Requirement already satisfied: yarl<2.0,>=1.0 in c:\\users\\user\\.conda\\envs\\dfu2\\lib\\site-packages (from aiohttp!=4.0.0a0,!=4.0.0a1->fsspec[http]>=2022.5.0->pytorch-lightning) (1.9.4)\n",
      "Requirement already satisfied: async-timeout<5.0,>=4.0 in c:\\users\\user\\.conda\\envs\\dfu2\\lib\\site-packages (from aiohttp!=4.0.0a0,!=4.0.0a1->fsspec[http]>=2022.5.0->pytorch-lightning) (4.0.3)\n",
      "Requirement already satisfied: intel-openmp==2021.* in c:\\users\\user\\.conda\\envs\\dfu2\\lib\\site-packages (from mkl<=2021.4.0,>=2021.1.1->torch>=1.13.0->pytorch-lightning) (2021.4.0)\n",
      "Requirement already satisfied: tbb==2021.* in c:\\users\\user\\.conda\\envs\\dfu2\\lib\\site-packages (from mkl<=2021.4.0,>=2021.1.1->torch>=1.13.0->pytorch-lightning) (2021.12.0)\n",
      "Requirement already satisfied: MarkupSafe>=2.0 in c:\\users\\user\\.conda\\envs\\dfu2\\lib\\site-packages (from jinja2->torch>=1.13.0->pytorch-lightning) (2.1.5)\n",
      "Requirement already satisfied: mpmath>=0.19 in c:\\users\\user\\.conda\\envs\\dfu2\\lib\\site-packages (from sympy->torch>=1.13.0->pytorch-lightning) (1.3.0)\n",
      "Requirement already satisfied: idna>=2.0 in c:\\users\\user\\.conda\\envs\\dfu2\\lib\\site-packages (from yarl<2.0,>=1.0->aiohttp!=4.0.0a0,!=4.0.0a1->fsspec[http]>=2022.5.0->pytorch-lightning) (3.7)\n",
      "Using cached pytorch_lightning-2.2.4-py3-none-any.whl (802 kB)\n",
      "Installing collected packages: pytorch-lightning\n",
      "  Attempting uninstall: pytorch-lightning\n",
      "    Found existing installation: pytorch-lightning 1.9.0\n",
      "    Uninstalling pytorch-lightning-1.9.0:\n",
      "      Successfully uninstalled pytorch-lightning-1.9.0\n",
      "Successfully installed pytorch-lightning-2.2.4\n"
     ]
    },
    {
     "name": "stderr",
     "output_type": "stream",
     "text": [
      "WARNING: Ignoring invalid distribution -orch (c:\\users\\user\\.conda\\envs\\dfu2\\lib\\site-packages)\n",
      "WARNING: Ignoring invalid distribution -orch (c:\\users\\user\\.conda\\envs\\dfu2\\lib\\site-packages)\n",
      "\n",
      "[notice] A new release of pip is available: 23.3.2 -> 24.0\n",
      "[notice] To update, run: python.exe -m pip install --upgrade pip\n"
     ]
    }
   ],
   "source": [
    "!pip install --upgrade pytorch-lightning\n"
   ]
  }
 ],
 "metadata": {
  "kernelspec": {
   "display_name": "PyTorch_GPU_",
   "language": "python",
   "name": "python3"
  },
  "language_info": {
   "codemirror_mode": {
    "name": "ipython",
    "version": 3
   },
   "file_extension": ".py",
   "mimetype": "text/x-python",
   "name": "python",
   "nbconvert_exporter": "python",
   "pygments_lexer": "ipython3",
   "version": "3.9.19"
  }
 },
 "nbformat": 4,
 "nbformat_minor": 2
}
